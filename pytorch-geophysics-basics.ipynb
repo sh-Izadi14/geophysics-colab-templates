{
 "cells": [
  {
   "cell_type": "code",
   "execution_count": null,
   "id": "45a7d9eb",
   "metadata": {},
   "outputs": [],
   "source": [
    "\"\"\"\n",
    "# 🎯 Geophysics Platform - PyTorch Basics\n",
    "**Course:** Introduction to PyTorch for Geophysical Data  \n",
    "**Platform:** Your Geophysics Website  \n",
    "**Instructor:** Your Name\n",
    "\n",
    "👉 **INSTRUCTIONS:** Run each cell in order from top to bottom!\n",
    "\"\"\""
   ]
  },
  {
   "cell_type": "code",
   "execution_count": null,
   "id": "657cf7fb",
   "metadata": {},
   "outputs": [],
   "source": [
    "# [CELL 2] - Package Installation\n",
    "%%capture\n",
    "# 🔧 Auto-install required packages\n",
    "print(\"🚀 Setting up your geophysics environment...\")\n",
    "\n",
    "import time\n",
    "start_time = time.time()\n",
    "\n",
    "!pip install -q torch torchvision torchaudio\n",
    "!pip install -q simpeg\n",
    "!pip install -q matplotlib plotly seaborn\n",
    "!pip install -q numpy pandas scipy\n",
    "\n",
    "installation_time = time.time() - start_time\n",
    "print(f\"✅ Environment ready in {installation_time:.1f} seconds!\")\n",
    "print(\"🎯 You can now run the lesson code below!\")"
   ]
  },
  {
   "cell_type": "code",
   "execution_count": null,
   "id": "d02157db",
   "metadata": {},
   "outputs": [],
   "source": [
    "# [CELL 3] - Import Statements\n",
    "import torch\n",
    "import numpy as np\n",
    "import matplotlib.pyplot as plt\n",
    "import simpeg\n",
    "\n",
    "print(f\"PyTorch version: {torch.__version__}\")\n",
    "print(f\"SimPEG version: {simpeg.__version__}\")\n"
   ]
  },
  {
   "cell_type": "code",
   "execution_count": 1,
   "id": "53f3eec3",
   "metadata": {},
   "outputs": [
    {
     "data": {
      "text/plain": [
       "\"\\n# Lesson 1: PyTorch Tensors for Geophysical Data\\n\\nIn this lesson, you'll learn how to represent geophysical data as PyTorch tensors.\\n\""
      ]
     },
     "execution_count": 1,
     "metadata": {},
     "output_type": "execute_result"
    }
   ],
   "source": [
    "# [CELL 4] - Lesson Content\n",
    "\"\"\"\n",
    "# Lesson 1: PyTorch Tensors for Geophysical Data\n",
    "\n",
    "In this lesson, you'll learn how to represent geophysical data as PyTorch tensors.\n",
    "\"\"\""
   ]
  },
  {
   "cell_type": "code",
   "execution_count": null,
   "id": "c5605564",
   "metadata": {},
   "outputs": [],
   "source": [
    "# Create synthetic magnetic data\n",
    "data = torch.randn(100, 100)  # 100x100 grid of magnetic measurements\n",
    "print(f\"Data shape: {data.shape}\")\n",
    "print(f\"Data type: {data.dtype}\")"
   ]
  },
  {
   "cell_type": "code",
   "execution_count": null,
   "id": "e7d29e09",
   "metadata": {},
   "outputs": [],
   "source": [
    "plt.figure(figsize=(10, 8))\n",
    "plt.imshow(data.numpy(), cmap='RdBu_r')\n",
    "plt.colorbar(label='Magnetic Field (nT)')\n",
    "plt.title('Synthetic Magnetic Data')\n",
    "plt.show()"
   ]
  },
  {
   "cell_type": "code",
   "execution_count": null,
   "id": "95b85b27",
   "metadata": {},
   "outputs": [],
   "source": [
    "\"\"\"\n",
    "## 💾 Saving Your Work\n",
    "\n",
    "Don't forget to save your notebook:\n",
    "1. **File → Save a copy in Drive** (auto-saves to Google Drive)\n",
    "2. Or **File → Download → Download .ipynb** (download to computer)\n",
    "\n",
    "You can return to this lesson anytime from the platform!\n",
    "\"\"\""
   ]
  }
 ],
 "metadata": {
  "kernelspec": {
   "display_name": "Python [conda env:ml_env]",
   "language": "python",
   "name": "conda-env-ml_env-py"
  },
  "language_info": {
   "codemirror_mode": {
    "name": "ipython",
    "version": 3
   },
   "file_extension": ".py",
   "mimetype": "text/x-python",
   "name": "python",
   "nbconvert_exporter": "python",
   "pygments_lexer": "ipython3",
   "version": "3.12.11"
  }
 },
 "nbformat": 4,
 "nbformat_minor": 5
}
